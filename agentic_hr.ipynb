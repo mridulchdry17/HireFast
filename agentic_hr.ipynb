{
 "cells": [
  {
   "cell_type": "code",
   "execution_count": 14,
   "id": "9eda3f69",
   "metadata": {},
   "outputs": [],
   "source": [
    "from langgraph.graph import StateGraph,START,END\n",
    "from typing import TypedDict,Optional\n",
    "from langgraph.prebuilt import ToolNode"
   ]
  },
  {
   "cell_type": "code",
   "execution_count": 15,
   "id": "90fe6c47",
   "metadata": {},
   "outputs": [],
   "source": [
    "class HRHiringState(TypedDict): \n",
    "    role: Optional[str]\n",
    "    job_description: Optional[str]\n",
    "    approval: Optional[bool]"
   ]
  },
  {
   "cell_type": "code",
   "execution_count": 16,
   "id": "851a2c22",
   "metadata": {},
   "outputs": [],
   "source": [
    "def prompt_for_role(state: HRHiringState) -> str:\n",
    "    role = input(\"Please enter the role you want to hire for: \")\n",
    "    return {'role': role}\n",
    "\n",
    "def generate_jd(state: HRHiringState) -> str:\n",
    "    role = state['role']\n",
    "    jd = f'Create a job description for the role of {role}.'\n",
    "    return {'job_description':jd}\n",
    "\n",
    "def human_approval(state: HRHiringState) -> bool:\n",
    "    approval_input = input(\"Do you approve the JD? (True/False): \").strip().lower()\n",
    "    approval = approval_input == \"True\"\n",
    "    return {\"approval\": approval}\n",
    "\n",
    "def post_linkedin(state: HRHiringState) -> str:\n",
    "    pass\n"
   ]
  },
  {
   "cell_type": "code",
   "execution_count": 17,
   "id": "0d28db3f",
   "metadata": {},
   "outputs": [
    {
     "data": {
      "text/plain": [
       "<langgraph.graph.state.StateGraph at 0x1eb852ad750>"
      ]
     },
     "execution_count": 17,
     "metadata": {},
     "output_type": "execute_result"
    }
   ],
   "source": [
    "builder = StateGraph(HRHiringState)\n",
    "\n",
    "# Define Nodes\n",
    "builder.add_node('prompt_for_role', prompt_for_role)\n",
    "builder.add_node('generate_jd', generate_jd)\n",
    "builder.add_node('human_approval', human_approval)\n",
    "builder.add_node('post_linkedin', post_linkedin)\n",
    "\n",
    "# Define Edges\n",
    "builder.add_edge(START, 'prompt_for_role')\n",
    "builder.add_edge('prompt_for_role', 'generate_jd')\n",
    "builder.add_edge('generate_jd', 'human_approval')\n",
    "builder.add_edge('human_approval', 'post_linkedin')\n",
    "\n",
    "def approval_conditional(state: HRHiringState) -> str:\n",
    "    return 'post_linkedin' if state['approval'] else 'prompt_for_role'\n",
    "\n",
    "builder.add_conditional_edges('human_approval', approval_conditional)\n",
    "builder.add_edge('post_linkedin', END)"
   ]
  },
  {
   "cell_type": "code",
   "execution_count": null,
   "id": "02a04126",
   "metadata": {},
   "outputs": [],
   "source": []
  },
  {
   "cell_type": "code",
   "execution_count": 18,
   "id": "226b6a86",
   "metadata": {},
   "outputs": [
    {
     "data": {
      "image/png": "[encoded data removed]",
      "text/plain": [
       "<langgraph.graph.state.CompiledStateGraph object at 0x000001EB85295F90>"
      ]
     },
     "execution_count": 18,
     "metadata": {},
     "output_type": "execute_result"
    }
   ],
   "source": [
    "graph = builder.compile()\n",
    "graph"
   ]
  },
  {
   "cell_type": "code",
   "execution_count": null,
   "id": "7ad3ce5b",
   "metadata": {},
   "outputs": [],
   "source": [
    "# initial_state = HRHiringState(role='Data scientist', job_description='Staff Data scientist', approval=None)\n",
    "# graph.invoke(initial_state)"
   ]
  },
  {
   "cell_type": "code",
   "execution_count": null,
   "id": "7905f8f9",
   "metadata": {},
   "outputs": [
    {
     "name": "stdout",
     "output_type": "stream",
     "text": [
      "Requirement already satisfied: graphviz in c:\\users\\hp\\appdata\\local\\programs\\python\\python310\\lib\\site-packages (0.21)\n"
     ]
    },
    {
     "name": "stderr",
     "output_type": "stream",
     "text": [
      "\n",
      "[notice] A new release of pip is available: 25.1.1 -> 25.2\n",
      "[notice] To update, run: C:\\Users\\HP\\AppData\\Local\\Programs\\Python\\Python310\\python.exe -m pip install --upgrade pip\n"
     ]
    }
   ],
   "source": [
    "import os\n",
    "from groq import Groq\n",
    "from langgraph.graph import StateGraph,START,END\n",
    "from typing import TypedDict,Optional\n",
    "\n",
    "class HRHiringState(TypedDict): \n",
    "    role: Optional[str]\n",
    "    job_description: Optional[str]\n",
    "    approval: Optional[bool]\n",
    "\n",
    "def prompt_for_role(state: HRHiringState) -> str:\n",
    "    role = input(\"Please enter the role you want to hire for: \")\n",
    "    return {'role': role}\n",
    "\n",
    "def generate_jd(state: HRHiringState) -> dict:\n",
    "    role = state['role']\n",
    "    client = Groq(api_key=os.environ.get(\"GROQ_API_KEY\"))\n",
    "    prompt = f\"Write a detailed job description for the role of {role}.\"\n",
    "    chat_completion = client.chat.completions.create(\n",
    "        messages=[\n",
    "            {\"role\": \"user\", \"content\": prompt}\n",
    "        ],\n",
    "        model=\"llama3-8b-8192\"\n",
    "    )\n",
    "    jd = chat_completion.choices[0].message.content\n",
    "    return {'job_description': jd}\n",
    "\n",
    "def human_approval(state: HRHiringState) -> bool:\n",
    "    approval_input = input(\"Do you approve the JD? (yes/no): \").strip().lower()\n",
    "    approval = approval_input == \"yes\"\n",
    "    return {\"approval\": approval}\n",
    "\n",
    "def post_linkedin(state: HRHiringState) -> dict:\n",
    "    return {\"post_status\": \"yes posted\"}\n",
    "\n",
    "def wait_2_days(state: HRHiringState) -> str:\n",
    "    print(\"Waiting for 2 days...\")\n",
    "    return {}\n",
    "def monitor_applications(state: HRHiringState) -> str:\n",
    "    print(\"Monitoring applications...\")\n",
    "    return {}\n",
    "def select_candidates(state: HRHiringState) -> str:\n",
    "    print(\"Selecting candidates...\")\n",
    "    return {}\n",
    "def schedule_interviews(state: HRHiringState) -> str:\n",
    "    print(\"Scheduling interviews...\")\n",
    "    return {}\n",
    "\n",
    "\n",
    "builder = StateGraph(HRHiringState)\n",
    "\n",
    "# Define Nodes\n",
    "builder.add_node('prompt_for_role', prompt_for_role)\n",
    "builder.add_node('generate_jd', generate_jd)\n",
    "builder.add_node('human_approval', human_approval)\n",
    "builder.add_node('post_linkedin', post_linkedin)\n",
    "builder.add_node('wait_2_days',wait_2_days)\n",
    "builder.add_node('monitor_applications', monitor_applications)\n",
    "builder.add_node('select_candidates', select_candidates)\n",
    "builder.add_node('schedule_interviews', schedule_interviews)\n",
    "\n",
    "\n",
    "\n",
    "# Define Edges\n",
    "builder.add_edge(START, 'prompt_for_role')\n",
    "builder.add_edge('prompt_for_role', 'generate_jd')\n",
    "builder.add_edge('generate_jd', 'human_approval')\n",
    "\n",
    "def approval_conditional(state: HRHiringState) -> str:\n",
    "    return 'post_linkedin' if state['approval'] else 'prompt_for_role'\n",
    "\n",
    "builder.add_edge('human_approval', 'post_linkedin')  # shown visually\n",
    "builder.add_edge('human_approval', 'prompt_for_role')  # shown visually\n",
    "\n",
    "builder.add_conditional_edges('human_approval', approval_conditional)\n",
    "builder.add_edge('post_linkedin', 'wait_2_days')\n",
    "builder.add_edge('wait_2_days', 'monitor_applications')\n",
    "builder.add_edge('monitor_applications','select_candidates')\n",
    "builder.add_edge('select_candidates','schedule_interviews')\n",
    "builder.add_edge('schedule_interviews', END)\n",
    "\n",
    "\n",
    "if __name__ == \"__main__\":\n",
    "    graph = builder.compile()\n",
    "    final_state = graph.invoke({})\n",
    "    print(\"\\nWorkflow complete. Final state:\")\n",
    "    print(final_state) \n",
    "    "
   ]
  },
  {
   "cell_type": "code",
   "execution_count": 20,
   "id": "fd629396",
   "metadata": {},
   "outputs": [
    {
     "data": {
      "text/plain": [
       "Graph(nodes={'__start__': Node(id='__start__', name='__start__', data=RunnableCallable(tags=None, recurse=True, explode_args=False, func_accepts_config=False, func_accepts={}), metadata=None), 'prompt_for_role': Node(id='prompt_for_role', name='prompt_for_role', data=prompt_for_role(tags=None, recurse=True, explode_args=False, func_accepts_config=False, func_accepts={}), metadata=None), 'generate_jd': Node(id='generate_jd', name='generate_jd', data=generate_jd(tags=None, recurse=True, explode_args=False, func_accepts_config=False, func_accepts={}), metadata=None), 'human_approval': Node(id='human_approval', name='human_approval', data=human_approval(tags=None, recurse=True, explode_args=False, func_accepts_config=False, func_accepts={}), metadata=None), 'post_linkedin': Node(id='post_linkedin', name='post_linkedin', data=post_linkedin(tags=None, recurse=True, explode_args=False, func_accepts_config=False, func_accepts={}), metadata=None), 'wait_2_days': Node(id='wait_2_days', name='wait_2_days', data=wait_2_days(tags=None, recurse=True, explode_args=False, func_accepts_config=False, func_accepts={}), metadata=None), 'monitor_applications': Node(id='monitor_applications', name='monitor_applications', data=monitor_applications(tags=None, recurse=True, explode_args=False, func_accepts_config=False, func_accepts={}), metadata=None), 'select_candidates': Node(id='select_candidates', name='select_candidates', data=select_candidates(tags=None, recurse=True, explode_args=False, func_accepts_config=False, func_accepts={}), metadata=None), 'schedule_interviews': Node(id='schedule_interviews', name='schedule_interviews', data=schedule_interviews(tags=None, recurse=True, explode_args=False, func_accepts_config=False, func_accepts={}), metadata=None), '__end__': Node(id='__end__', name='__end__', data=None, metadata=None)}, edges=[Edge(source='__start__', target='prompt_for_role', data=None, conditional=False), Edge(source='generate_jd', target='human_approval', data=None, conditional=False), Edge(source='prompt_for_role', target='generate_jd', data=None, conditional=False), Edge(source='human_approval', target='__end__', data=None, conditional=False)])"
      ]
     },
     "execution_count": 20,
     "metadata": {},
     "output_type": "execute_result"
    }
   ],
   "source": [
    "graph.get_graph()\n"
   ]
  },
  {
   "cell_type": "code",
   "execution_count": 21,
   "id": "03fc5970",
   "metadata": {},
   "outputs": [
    {
     "data": {
      "image/png": "[encoded data removed]",
      "text/plain": [
       "<langgraph.graph.state.CompiledStateGraph object at 0x000001BCA6F65030>"
      ]
     },
     "execution_count": 21,
     "metadata": {},
     "output_type": "execute_result"
    }
   ],
   "source": [
    "graph"
   ]
  },
  {
   "cell_type": "code",
   "execution_count": null,
   "id": "cf9cc00c",
   "metadata": {},
   "outputs": [],
   "source": []
  }
 ],
 "metadata": {
  "kernelspec": {
   "display_name": "Python (Agentic .venv)",
   "language": "python",
   "name": "venv-agentic"
  },
  "language_info": {
   "codemirror_mode": {
    "name": "ipython",
    "version": 3
   },
   "file_extension": ".py",
   "mimetype": "text/x-python",
   "name": "python",
   "nbconvert_exporter": "python",
   "pygments_lexer": "ipython3",
   "version": "3.10.1"
  }
 },
 "nbformat": 4,
 "nbformat_minor": 5
}
