{
 "cells": [
  {
   "cell_type": "code",
   "execution_count": 14,
   "id": "9eda3f69",
   "metadata": {},
   "outputs": [],
   "source": [
    "from langgraph.graph import StateGraph,START,END\n",
    "from typing import TypedDict,Optional\n",
    "from langgraph.prebuilt import ToolNode"
   ]
  },
  {
   "cell_type": "code",
   "execution_count": 15,
   "id": "90fe6c47",
   "metadata": {},
   "outputs": [],
   "source": [
    "class HRHiringState(TypedDict): \n",
    "    role: Optional[str]\n",
    "    job_description: Optional[str]\n",
    "    approval: Optional[bool]"
   ]
  },
  {
   "cell_type": "code",
   "execution_count": 16,
   "id": "851a2c22",
   "metadata": {},
   "outputs": [],
   "source": [
    "def prompt_for_role(state: HRHiringState) -> str:\n",
    "    role = input(\"Please enter the role you want to hire for: \")\n",
    "    return {'role': role}\n",
    "\n",
    "def generate_jd(state: HRHiringState) -> str:\n",
    "    role = state['role']\n",
    "    jd = f'Create a job description for the role of {role}.'\n",
    "    return {'job_description':jd}\n",
    "\n",
    "def human_approval(state: HRHiringState) -> bool:\n",
    "    approval_input = input(\"Do you approve the JD? (True/False): \").strip().lower()\n",
    "    approval = approval_input == \"True\"\n",
    "    return {\"approval\": approval}\n",
    "\n",
    "def post_linkedin(state: HRHiringState) -> str:\n",
    "    pass\n"
   ]
  },
  {
   "cell_type": "code",
   "execution_count": 17,
   "id": "0d28db3f",
   "metadata": {},
   "outputs": [
    {
     "data": {
      "text/plain": [
       "<langgraph.graph.state.StateGraph at 0x1eb852ad750>"
      ]
     },
     "execution_count": 17,
     "metadata": {},
     "output_type": "execute_result"
    }
   ],
   "source": [
    "builder = StateGraph(HRHiringState)\n",
    "\n",
    "# Define Nodes\n",
    "builder.add_node('prompt_for_role', prompt_for_role)\n",
    "builder.add_node('generate_jd', generate_jd)\n",
    "builder.add_node('human_approval', human_approval)\n",
    "builder.add_node('post_linkedin', post_linkedin)\n",
    "\n",
    "# Define Edges\n",
    "builder.add_edge(START, 'prompt_for_role')\n",
    "builder.add_edge('prompt_for_role', 'generate_jd')\n",
    "builder.add_edge('generate_jd', 'human_approval')\n",
    "builder.add_edge('human_approval', 'post_linkedin')\n",
    "\n",
    "def approval_conditional(state: HRHiringState) -> str:\n",
    "    return 'post_linkedin' if state['approval'] else 'prompt_for_role'\n",
    "\n",
    "builder.add_conditional_edges('human_approval', approval_conditional)\n",
    "builder.add_edge('post_linkedin', END)"
   ]
  },
  {
   "cell_type": "code",
   "execution_count": null,
   "id": "02a04126",
   "metadata": {},
   "outputs": [],
   "source": []
  },
  {
   "cell_type": "code",
   "execution_count": 18,
   "id": "226b6a86",
   "metadata": {},
   "outputs": [
    {
     "data": {
      "image/png": "[encoded data removed]",
      "text/plain": [
       "<langgraph.graph.state.CompiledStateGraph object at 0x000001EB85295F90>"
      ]
     },
     "execution_count": 18,
     "metadata": {},
     "output_type": "execute_result"
    }
   ],
   "source": [
    "graph = builder.compile()\n",
    "graph"
   ]
  },
  {
   "cell_type": "code",
   "execution_count": null,
   "id": "7ad3ce5b",
   "metadata": {},
   "outputs": [],
   "source": [
    "# initial_state = HRHiringState(role='Data scientist', job_description='Staff Data scientist', approval=None)\n",
    "# graph.invoke(initial_state)"
   ]
  },
  {
   "cell_type": "code",
   "execution_count": null,
   "id": "7905f8f9",
   "metadata": {},
   "outputs": [],
   "source": [
    "import os\n",
    "from groq import Groq\n",
    "from langgraph.graph import StateGraph,START,END\n",
    "from typing import TypedDict,Optional\n",
    "\n",
    "class HRHiringState(TypedDict): \n",
    "    role: Optional[str]\n",
    "    job_description: Optional[str]\n",
    "    approval: Optional[bool]\n",
    "\n",
    "def prompt_for_role(state: HRHiringState) -> str:\n",
    "    role = input(\"Please enter the role you want to hire for: \")\n",
    "    return {'role': role}\n",
    "\n",
    "def generate_jd(state: HRHiringState) -> dict:\n",
    "    role = state['role']\n",
    "    client = Groq(api_key=os.environ.get(\"GROQ_API_KEY\"))\n",
    "    prompt = f\"Write a detailed job description for the role of {role}.\"\n",
    "    chat_completion = client.chat.completions.create(\n",
    "        messages=[\n",
    "            {\"role\": \"user\", \"content\": prompt}\n",
    "        ],\n",
    "        model=\"llama3-8b-8192\"\n",
    "    )\n",
    "    jd = chat_completion.choices[0].message.content\n",
    "    return {'job_description': jd}\n",
    "\n",
    "def human_approval(state: HRHiringState) -> bool:\n",
    "    approval_input = input(\"Do you approve the JD? (yes/no): \").strip().lower()\n",
    "    approval = approval_input == \"yes\"\n",
    "    return {\"approval\": approval}\n",
    "\n",
    "def post_linkedin(state: HRHiringState) -> dict:\n",
    "    return {\"post_status\": \"yes posted\"}\n",
    "\n",
    "\n",
    "\n",
    "\n",
    "builder = StateGraph(HRHiringState)\n",
    "\n",
    "# Define Nodes\n",
    "builder.add_node('prompt_for_role', prompt_for_role)\n",
    "builder.add_node('generate_jd', generate_jd)\n",
    "builder.add_node('human_approval', human_approval)\n",
    "builder.add_node('post_linkedin', post_linkedin)\n",
    "\n",
    "# Define Edges\n",
    "builder.add_edge(START, 'prompt_for_role')\n",
    "builder.add_edge('prompt_for_role', 'generate_jd')\n",
    "builder.add_edge('generate_jd', 'human_approval')\n",
    "\n",
    "def approval_conditional(state: HRHiringState) -> str:\n",
    "    return 'post_linkedin' if state['approval'] else 'prompt_for_role'\n",
    "\n",
    "builder.add_conditional_edges('human_approval', approval_conditional)\n",
    "builder.add_edge('post_linkedin', END)\n",
    "\n",
    "\n",
    "if __name__ == \"__main__\":\n",
    "    graph = builder.compile()\n",
    "    # final_state = graph.invoke({})\n",
    "    # print(\"\\nWorkflow complete. Final state:\")\n",
    "    # print(final_state) \n",
    "    "
   ]
  }
 ],
 "metadata": {
  "kernelspec": {
   "display_name": "Python (Agentic .venv)",
   "language": "python",
   "name": "venv-agentic"
  },
  "language_info": {
   "codemirror_mode": {
    "name": "ipython",
    "version": 3
   },
   "file_extension": ".py",
   "mimetype": "text/x-python",
   "name": "python",
   "nbconvert_exporter": "python",
   "pygments_lexer": "ipython3",
   "version": "3.10.1"
  }
 },
 "nbformat": 4,
 "nbformat_minor": 5
}
